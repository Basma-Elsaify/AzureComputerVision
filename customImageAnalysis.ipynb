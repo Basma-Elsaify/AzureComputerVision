{
 "cells": [
  {
   "cell_type": "markdown",
   "metadata": {},
   "source": [
    "# Image Analysis Using Azure"
   ]
  },
  {
   "cell_type": "markdown",
   "metadata": {},
   "source": [
    "imports and Azure URL and subscription"
   ]
  },
  {
   "cell_type": "code",
   "execution_count": 1,
   "metadata": {},
   "outputs": [],
   "source": [
    "import requests\n",
    "\n",
    "%matplotlib inline\n",
    "import matplotlib.pyplot as plt\n",
    "from PIL import Image\n",
    "from io import BytesIO\n",
    "\n",
    "subscription_key = \"<subscription_key>\"\n",
    "assert subscription_key\n",
    "\n",
    "vision_base_url = \"https://westcentralus.api.cognitive.microsoft.com/vision/v2.0/\""
   ]
  },
  {
   "cell_type": "markdown",
   "metadata": {},
   "source": [
    "Read local image"
   ]
  },
  {
   "cell_type": "code",
   "execution_count": 5,
   "metadata": {},
   "outputs": [],
   "source": [
    "def readImage(image_source, scope):\n",
    "    if(scope == 'local'):\n",
    "        data = open(image_source, \"rb\").read()\n",
    "        return data\n",
    "    elif(scope == 'remote'):\n",
    "        image_url = image_source\n",
    "        data    = {'url': image_url}\n",
    "        return data\n",
    "    else:\n",
    "        print('kindly pass the scope parameter local or remote')\n",
    "        return null"
   ]
  },
  {
   "cell_type": "markdown",
   "metadata": {},
   "source": [
    "Calling Azure Computer vision APIs"
   ]
  },
  {
   "cell_type": "code",
   "execution_count": 6,
   "metadata": {},
   "outputs": [],
   "source": [
    "def apiCall(serviceURL, params, data, scope):\n",
    "    if(scope == 'local'):\n",
    "        headers    = {'Ocp-Apim-Subscription-Key': subscription_key,\n",
    "                      'Content-Type': 'application/octet-stream'}\n",
    "        response = requests.post(serviceURL, headers=headers, params=params, data=data)\n",
    "    \n",
    "    elif(scope == 'remote'):        \n",
    "        headers = {'Ocp-Apim-Subscription-Key': subscription_key}\n",
    "        response = requests.post(serviceURL, headers=headers, params=params, json=data)\n",
    "    else:\n",
    "        print('kindly pass the scope paramtere local or remote')\n",
    "        return null\n",
    "    \n",
    "    response.raise_for_status()\n",
    "\n",
    "    analysis = response.json()\n",
    "    return analysis"
   ]
  },
  {
   "cell_type": "markdown",
   "metadata": {},
   "source": [
    "Main"
   ]
  },
  {
   "cell_type": "code",
   "execution_count": 7,
   "metadata": {},
   "outputs": [
    {
     "name": "stdout",
     "output_type": "stream",
     "text": [
      "{'metadata': {'width': 900, 'height': 675, 'format': 'Jpeg'}, 'requestId': '5c6d1692-5539-4012-9b81-8255926b5792', 'result': {'landmarks': [{'name': 'Great Pyramid of Giza', 'confidence': 0.9854956269264221}]}}\n"
     ]
    }
   ],
   "source": [
    "if __name__ == \"__main__\":\n",
    "    ## set scope to 'local' or 'remote'\n",
    "    scope = \"local\"\n",
    "#     scope = \"remote\"\n",
    "        \n",
    "    ## set image source\n",
    "    ## local source image sample\n",
    "#     image_source = \"a.jpeg\" # red apple for object detection\n",
    "    image_source = \"theGreatPyramids.jpg\" # the great pyramids for land mark\n",
    "\n",
    "    ## remote source image sample\n",
    "#     image_source = \"https://images.all-free-download.com/images/graphicthumb/green_apple_03_hd_picture_167362.jpg\" # green apple for object detection\n",
    "#     image_source = \"https://i.ytimg.com/vi/DCExvb-BJPw/hqdefault.jpg\" # George Bernard Shaw for Celebrities Recognision\n",
    "    \n",
    "    ## Read image\n",
    "    data = readImage(image_source, scope)\n",
    "    \n",
    "    ## General Object Detection\n",
    "#     serviceURL = vision_base_url + \"analyze\"\n",
    "#     params     = {'visualFeatures': 'Categories,Description,Color'}\n",
    "    ## Landmark\n",
    "    serviceURL = vision_base_url + \"models/landmarks/analyze\"\n",
    "    params  = {'model': 'landmarks'}\n",
    "    ## Celebrities Recognision\n",
    "#     serviceURL = vision_base_url + \"models/celebrities/analyze\"\n",
    "#     params     = {'model': 'celebrities'}\n",
    "    analysis = apiCall(serviceURL, params, data, scope)    \n",
    "\n",
    "    print(analysis)"
   ]
  }
 ],
 "metadata": {
  "kernelspec": {
   "display_name": "Python 3",
   "language": "python",
   "name": "python3"
  },
  "language_info": {
   "codemirror_mode": {
    "name": "ipython",
    "version": 3
   },
   "file_extension": ".py",
   "mimetype": "text/x-python",
   "name": "python",
   "nbconvert_exporter": "python",
   "pygments_lexer": "ipython3",
   "version": "3.5.0"
  }
 },
 "nbformat": 4,
 "nbformat_minor": 2
}
